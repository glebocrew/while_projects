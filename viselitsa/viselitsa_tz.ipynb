{
 "cells": [
  {
   "cell_type": "markdown",
   "metadata": {},
   "source": [
    "# Контест на while. и парочку модулей)\n"
   ]
  },
  {
   "cell_type": "markdown",
   "metadata": {},
   "source": [
    "# Задача 1. Виселица\n",
    "Условие (привыкайте к слову Техническое Задание (ТЗ)):  \n",
    "Вам нужно реализовать игру \"Виселица\" на Python с помощью цикла <b>while</b> и модуля <b>random</b>.  \n",
    "Правила игры:\n",
    "У игрока есть 10 попыток отгадать случайно загаданное слово по буквам.\n",
    "После попытки требуется выводить её правильность, а также выводить сколько жизней осталось у игрока и отгаданные буквы. Подумайте над реализацией, поэксперементируйте и пофантазируйте.  \n",
    "Задание требует креатива!  \n"
   ]
  },
  {
   "cell_type": "markdown",
   "metadata": {},
   "source": [
    "# Техническая справка\n",
    "Модуль <b>random</b>\n",
    "- choice (случайная выборка из массива)\n",
    "- randint (случайное число)\n",
    "\n",
    "Функция <b>str.lower()</b>\n",
    "- переносит все символы строки в строчный регистр\n",
    "\n",
    "Примеры:\n",
    "<br>\n",
    "<code> \n",
    "    random.choice([\"a\", \"b\", \"c\"]) <br>\n",
    "    # \"a\" или \"b\" или \"c\"\n",
    "</code>\n",
    "<br><br>\n",
    "<code>\n",
    "    random.randint(0, 100) <br>\n",
    "    # любое число из промежутка [0, 100)\n",
    "</code>\n",
    "<br><br>\n",
    "<code>\n",
    "    \"ХаХаХа\".lower() <br>\n",
    "    # ИЛИ <br>\n",
    "    str.lower(\"ХаХаХа\") <br>\n",
    "    # хахаха <br>\n",
    "</code>"
   ]
  },
  {
   "cell_type": "code",
   "execution_count": null,
   "metadata": {},
   "outputs": [],
   "source": []
  }
 ],
 "metadata": {
  "kernelspec": {
   "display_name": "Python 3",
   "language": "python",
   "name": "python3"
  },
  "language_info": {
   "codemirror_mode": {
    "name": "ipython",
    "version": 3
   },
   "file_extension": ".py",
   "mimetype": "text/x-python",
   "name": "python",
   "nbconvert_exporter": "python",
   "pygments_lexer": "ipython3",
   "version": "3.12.0"
  }
 },
 "nbformat": 4,
 "nbformat_minor": 2
}
